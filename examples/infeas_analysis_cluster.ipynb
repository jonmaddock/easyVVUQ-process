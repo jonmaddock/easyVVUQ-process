{
 "cells": [
  {
   "cell_type": "markdown",
   "metadata": {},
   "source": [
    "# Infeasibility analysis on a cluster\n",
    "\n",
    "Perform a simple analysis on the results of a UQ evaluation on a cluster using Dask."
   ]
  },
  {
   "cell_type": "code",
   "execution_count": null,
   "metadata": {},
   "outputs": [],
   "source": [
    "import easyvvuq as uq\n",
    "from pathlib import Path\n",
    "import matplotlib.pyplot as plt\n",
    "import seaborn as sns\n",
    "import numpy as np"
   ]
  },
  {
   "cell_type": "code",
   "execution_count": null,
   "metadata": {},
   "outputs": [
    {
     "name": "stdout",
     "output_type": "stream",
     "text": [
      "Reading in campaign database.\n",
      "Campaign read in. Number of samples = 64\n"
     ]
    }
   ],
   "source": [
    "print(\"Reading in campaign database.\")\n",
    "\n",
    "# Find DB\n",
    "db_count = 0\n",
    "for db_path in Path.cwd().glob(\"campaigns/*/campaign.db\"):\n",
    "    if db_count > 0:\n",
    "        raise RuntimeError(\"More than one database in the campaigns dir\")\n",
    "\n",
    "    db_location = str(db_path.resolve())\n",
    "    db_count += 1\n",
    "\n",
    "# /// prefix is required before absolute path\n",
    "db_location_prefixed = f\"sqlite:///{db_location}\"\n",
    "campaign = uq.Campaign(\n",
    "    db_location=db_location_prefixed, name=\"example_local\", work_dir=\"campaigns\"\n",
    ")\n",
    "\n",
    "samples = campaign.get_collation_result()\n",
    "sample_count = samples.shape[0]\n",
    "print(f\"Campaign read in. Number of samples = {sample_count}\")\n",
    "\n",
    "# Drop strange multi-index of 0\n",
    "samples.columns = samples.columns.droplevel(1)\n",
    "samples"
   ]
  },
  {
   "cell_type": "markdown",
   "metadata": {},
   "source": [
    "\n",
    "## Plot some samples\n",
    "\n",
    "The most basic analysis.\n"
   ]
  },
  {
   "cell_type": "code",
   "execution_count": null,
   "metadata": {},
   "outputs": [],
   "source": [
    "# Plot 2 vars from sample against each other\n",
    "# Input epistemic uncertainty aspect against vio_constr_res\n",
    "ax = sns.regplot(x=samples[\"aspect\"], y=samples[\"rms_vio_constr_res\"])\n",
    "ax.set_xlabel(\"aspect\")\n",
    "ax.set_ylabel(\"rms_vio_constr_res\")\n",
    "ax.set_title(\"Variability in vio_constr_res against aspect ratio\")"
   ]
  },
  {
   "cell_type": "markdown",
   "metadata": {},
   "source": [
    "## Analysis\n",
    "\n",
    "Analyse vio_constr_residuals, the violated constraint residuals.\n",
    "\n",
    "### KDE for `vio_constr_res` from EasyVVUQ (plotted with seaborn)\n"
   ]
  },
  {
   "cell_type": "code",
   "execution_count": null,
   "metadata": {},
   "outputs": [],
   "source": [
    "# Try to analyse all outputs variables: produces a linalg error\n",
    "# results = campaign.analyse(qoi_cols=palph2_inputs)\n",
    "\n",
    "# Analyse a single output variable, vio_constr_res\n",
    "results = campaign.analyse(qoi_cols=[\"rms_vio_constr_res\"])\n",
    "\n",
    "# Get its distribution\n",
    "dist = results.get_distribution(qoi=\"rms_vio_constr_res\")\n",
    "\n",
    "# Locations for density function to be evaluated\n",
    "# (This is taken from easyvvuq's fusion tutorial)\n",
    "x = np.linspace(dist.lower[0], dist.upper[0])\n",
    "pdf = dist.pdf(x)\n",
    "\n",
    "# Plot\n",
    "ax = sns.lineplot(x=x, y=pdf, markers=True)\n",
    "ax.set_title(\"Distribution for rms_vio_constr_res\")\n",
    "ax.set_xlabel(\"rms_vio_constr_res\")\n",
    "ax.set_ylabel(\"Probability density\")"
   ]
  },
  {
   "cell_type": "markdown",
   "metadata": {},
   "source": [
    "PDF for `vio_constr_res`. Appears right from looking at the EasyVVUQ tutorial (fusion Dask).\n",
    "\n",
    "## Sobol indices\n"
   ]
  },
  {
   "cell_type": "code",
   "execution_count": null,
   "metadata": {},
   "outputs": [],
   "source": [
    "# results.plot_moments(qoi=\"vio_constr_res\")\n",
    "# results.plot_sobols_first(\"vio_constr_res\") # only for vecotr qois. Like constraint vectors?\n",
    "\n",
    "fig, ax = plt.subplots()\n",
    "results.plot_sobols_treemap(\n",
    "    \"rms_vio_constr_res\", figsize=(10, 10), ax=ax, filename=\"sobols\"\n",
    ")"
   ]
  }
 ],
 "metadata": {
  "language_info": {
   "name": "python"
  }
 },
 "nbformat": 4,
 "nbformat_minor": 2
}
