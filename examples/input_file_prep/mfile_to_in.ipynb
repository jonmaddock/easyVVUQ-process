{
 "cells": [
  {
   "cell_type": "markdown",
   "metadata": {},
   "source": [
    "# Mfile to IN.DAT converter\n",
    "\n",
    "Sometimes a reliability analysis or optimisation under uncertainty study will want to use a solution as a starting point.\n",
    "\n",
    "The `mfile_to_in` module takes in any IN.DAT and corresponding MFILE.DAT from a converged Process run. It takes the solution vector (i.e. the optimisation parameters at the solution) and overwrites the initial optimisation parameter vector in the IN.DAT to create an identical input file, but starting at the solution (sol_IN.DAT).\n",
    "\n",
    "Optionally, the run can be made non-optimising (once-through). The number of equality constraints can also be specified, which makes the remaining constraints inequalities, as opposed to all equalities (the default Process case). This tool further removes f-values (used to make \"limit\" constraint equations equalities) as optimisation parameters from the input file, meaning that sol_IN.DAT will contain no f-value optimisation parameters.\n",
    "\n",
    "The resulting sol_IN.DAT is prepared for the UQ study."
   ]
  },
  {
   "cell_type": "code",
   "execution_count": 7,
   "metadata": {},
   "outputs": [
    {
     "name": "stdout",
     "output_type": "stream",
     "text": [
      "The autoreload extension is already loaded. To reload it, use:\n",
      "  %reload_ext autoreload\n"
     ]
    },
    {
     "name": "stderr",
     "output_type": "stream",
     "text": [
      "Warning: Line below is causing a problem. Check that line in IN.DAT is valid. Line skipped!\n",
      "ftaucq = 0.919\n",
      "\n"
     ]
    },
    {
     "name": "stdout",
     "output_type": "stream",
     "text": [
      "Solution f-values ignored = 23\n",
      "f-values removed as optimisation parameters = 23\n"
     ]
    },
    {
     "data": {
      "text/plain": [
       "PosixPath('sol_IN.DAT')"
      ]
     },
     "execution_count": 7,
     "metadata": {},
     "output_type": "execute_result"
    }
   ],
   "source": [
    "%load_ext autoreload\n",
    "%autoreload 2\n",
    "from infeas.mfile_to_in import convert\n",
    "\n",
    "convert(mfile_name=\"demo_MFILE.DAT\", original_in_name=\"demo_IN.DAT\", sol_in_name=\"sol_IN.DAT\", no_optimisation=True, n_equalities=3)"
   ]
  }
 ],
 "metadata": {
  "kernelspec": {
   "display_name": "easyVVUQ-process",
   "language": "python",
   "name": "python3"
  },
  "language_info": {
   "codemirror_mode": {
    "name": "ipython",
    "version": 3
   },
   "file_extension": ".py",
   "mimetype": "text/x-python",
   "name": "python",
   "nbconvert_exporter": "python",
   "pygments_lexer": "ipython3",
   "version": "3.10.9"
  }
 },
 "nbformat": 4,
 "nbformat_minor": 2
}
