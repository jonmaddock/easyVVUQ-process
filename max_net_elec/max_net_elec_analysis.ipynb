{
 "cells": [
  {
   "cell_type": "markdown",
   "metadata": {},
   "source": [
    "# Screened infeasibility analysis"
   ]
  },
  {
   "cell_type": "code",
   "execution_count": null,
   "metadata": {},
   "outputs": [],
   "source": [
    "import easyvvuq as uq\n",
    "import matplotlib.pyplot as plt\n",
    "import seaborn as sns\n",
    "import numpy as np\n",
    "import pandas as pd\n",
    "from pathlib import Path\n",
    "from eval_infeas import QOIS, WORK_DIR"
   ]
  },
  {
   "cell_type": "markdown",
   "metadata": {},
   "source": [
    "## User inputs"
   ]
  },
  {
   "cell_type": "code",
   "execution_count": null,
   "metadata": {},
   "outputs": [],
   "source": [
    "# Define campaign location\n",
    "campaign_name = \"max_net_elec_o3\""
   ]
  },
  {
   "cell_type": "markdown",
   "metadata": {},
   "source": [
    "Read in db."
   ]
  },
  {
   "cell_type": "code",
   "execution_count": null,
   "metadata": {},
   "outputs": [],
   "source": [
    "campaign_dir_matches = Path(WORK_DIR).glob(f\"{campaign_name}*\")\n",
    "campaign_dir_matches_list = list(campaign_dir_matches)\n",
    "if len(campaign_dir_matches_list) > 1:\n",
    "    raise ValueError(\"Multiple campaigns exist with that name.\")\n",
    "\n",
    "db_location = (campaign_dir_matches_list[0] / \"campaign.db\").resolve()\n",
    "\n",
    "print(\"Reading in campaign database.\")\n",
    "# /// prefix is required before absolute path\n",
    "db_location_prefixed = f\"sqlite:///{db_location}\"\n",
    "campaign = uq.Campaign(\n",
    "    db_location=db_location_prefixed, name=campaign_name, work_dir=WORK_DIR\n",
    ")\n",
    "\n",
    "samples = campaign.get_collation_result()\n",
    "sample_count = samples.shape[0]\n",
    "print(f\"Campaign read in. Number of samples = {sample_count}\")\n",
    "\n",
    "# Drop strange multi-index of 0\n",
    "samples.columns = samples.columns.droplevel(1)\n",
    "# samples"
   ]
  },
  {
   "cell_type": "markdown",
   "metadata": {},
   "source": [
    "## Analysis\n",
    "\n",
    "Check out the QOIs from the samples."
   ]
  },
  {
   "cell_type": "code",
   "execution_count": null,
   "metadata": {},
   "outputs": [],
   "source": [
    "samples[QOIS].describe()"
   ]
  },
  {
   "cell_type": "markdown",
   "metadata": {},
   "source": [
    "### Most violated constraints\n",
    "\n",
    "Find the most violated constraints (by mean)."
   ]
  },
  {
   "cell_type": "code",
   "execution_count": null,
   "metadata": {},
   "outputs": [],
   "source": [
    "print(\"Plotting violated constraint means.\")\n",
    "# Get absolute values of violated constraint residuals\n",
    "# Abs values before mean: be fair to eq constraints (either side of 0)\n",
    "vio_means_series = samples[QOIS].abs().mean().sort_values(ascending=False)\n",
    "vio_means = pd.DataFrame(vio_means_series, columns=[\"mean\"])\n",
    "vio_means[\"variable\"] = vio_means.index\n",
    "vio_means.reset_index(drop=True)\n",
    "\n",
    "# Exclude objf and vio-constr_res\n",
    "filter_qois = [\"objf\", \"vio_constr_res\"]\n",
    "constrs_mask = ~vio_means[\"variable\"].isin(filter_qois)\n",
    "vio_means_filt = vio_means[constrs_mask]\n",
    "\n",
    "# Plot\n",
    "fig, ax = plt.subplots()\n",
    "sns.barplot(data=vio_means_filt, x=\"mean\", y=\"variable\", ax=ax)\n",
    "ax.set_title(\"Mean violated constraint residuals under uncertainty\")\n",
    "ax.set_xlabel(\"Mean violated residual\")\n",
    "ax.set_ylabel(\"Constraint\")"
   ]
  },
  {
   "cell_type": "markdown",
   "metadata": {},
   "source": [
    "Most violated by frequency. Tricky to set a threshold: probably not the best.\n"
   ]
  },
  {
   "cell_type": "code",
   "execution_count": null,
   "metadata": {},
   "outputs": [],
   "source": [
    "print(\"Plotting constraint violation freqencies.\")\n",
    "constr_tol = 1e-3\n",
    "vio_counts = {}\n",
    "for qoi in QOIS:\n",
    "    # Count rows (samples) where each constraint is violated\n",
    "    vio_count = samples[samples[qoi].abs() > constr_tol].shape[0]\n",
    "    vio_counts[qoi] = vio_count\n",
    "\n",
    "vio_counts\n",
    "vio_counts_df = pd.DataFrame(data=vio_counts, index=[0])\n",
    "\n",
    "vio_counts_df_melt = vio_counts_df.melt()\n",
    "vio_counts_df_melt = vio_counts_df_melt.sort_values(by=\"value\", ascending=False)\n",
    "vio_counts_df_melt.reset_index(drop=True)\n",
    "vio_counts_df_melt_filt = vio_counts_df_melt[\n",
    "    ~vio_counts_df_melt[\"variable\"].isin(filter_qois)\n",
    "]\n",
    "\n",
    "# Plot\n",
    "fig, ax = plt.subplots()\n",
    "sns.barplot(data=vio_counts_df_melt_filt, x=\"value\", y=\"variable\", ax=ax)\n",
    "ax.set_title(\"Constraint violation frequency under uncertainty\")\n",
    "ax.set_xlabel(\"Violation frequency\")\n",
    "ax.set_ylabel(\"Constraint\")"
   ]
  },
  {
   "cell_type": "markdown",
   "metadata": {},
   "source": [
    "### Distribution of violated constraint residuals\n"
   ]
  },
  {
   "cell_type": "code",
   "execution_count": null,
   "metadata": {},
   "outputs": [],
   "source": [
    "print(\"Plotting distribution of violated constraint residuals.\")\n",
    "# Analyse a single output variable, vio_constr_res\n",
    "results = campaign.analyse(qoi_cols=[\"vio_constr_res\"])\n",
    "\n",
    "# Get its distribution\n",
    "dist = results.get_distribution(qoi=\"vio_constr_res\")\n",
    "\n",
    "# Locations for density function to be evaluated\n",
    "# (This is taken from easyvvuq's fusion tutorial)\n",
    "x = np.linspace(dist.lower[0], dist.upper[0], num=500)\n",
    "pdf = dist.pdf(x)\n",
    "\n",
    "# Plot\n",
    "fig, ax = plt.subplots()\n",
    "sns.lineplot(x=x, y=pdf, markers=True, ax=ax)\n",
    "ax.set_title(\"Distribution for vio_constr_res\")\n",
    "ax.set_xlabel(\"RMS of violated constraint residuals\")\n",
    "ax.set_ylabel(\"Probability density\")\n",
    "ax.set_xlim([0.0, None])"
   ]
  },
  {
   "cell_type": "markdown",
   "metadata": {},
   "source": [
    "### Distribution of individual constraint violations\n"
   ]
  },
  {
   "cell_type": "code",
   "execution_count": null,
   "metadata": {},
   "outputs": [],
   "source": [
    "print(\"Plotting top 3 violated constraint distributions\")\n",
    "# Take top 3 violated contraints (by mean)\n",
    "vio_means_filt = vio_means_filt.reset_index(drop=True)\n",
    "top_vio_means = vio_means_filt[0:3][\"variable\"].to_list()\n",
    "\n",
    "# Analyse a single output variable, vio_constr_res\n",
    "results = campaign.analyse(qoi_cols=top_vio_means)\n",
    "\n",
    "# Get the distributions\n",
    "dists = []\n",
    "dist_lowest = 0.0\n",
    "dist_highest = 0.0\n",
    "for qoi in top_vio_means:\n",
    "    dist = results.get_distribution(qoi=qoi)\n",
    "    if dist.lower[0] < dist_lowest:\n",
    "        dist_lowest = dist.lower[0]\n",
    "    if dist.upper[0] > dist_highest:\n",
    "        dist_highest = dist.upper[0]\n",
    "    dists.append(dist)\n",
    "\n",
    "# Locations for density function to be evaluated\n",
    "x = np.linspace(dist_lowest, dist_highest, num=500)\n",
    "\n",
    "# Flip x to make +ve\n",
    "pdfs = {\"x\": -x}\n",
    "for constr_name, dist in zip(top_vio_means, dists):\n",
    "    pdfs[constr_name] = dist.pdf(x)\n",
    "\n",
    "top_vio_means_df = pd.DataFrame(pdfs)\n",
    "top_vio_means_df\n",
    "top_vio_means_df_melt = top_vio_means_df.melt(id_vars=\"x\", value_vars=top_vio_means)\n",
    "top_vio_means_df_melt\n",
    "# Plot\n",
    "fig, ax = plt.subplots()\n",
    "sns.lineplot(\n",
    "    data=top_vio_means_df_melt, x=\"x\", y=\"value\", hue=\"variable\", markers=True, ax=ax\n",
    ")\n",
    "ax.set_title(\"Distribution of top 3 violated constraints\")\n",
    "ax.set_xlabel(\"Violated constraint value\")\n",
    "ax.set_ylabel(\"Probability density\")\n",
    "ax.set_xlim([0.0, None])"
   ]
  },
  {
   "cell_type": "markdown",
   "metadata": {},
   "source": [
    "### Objective function\n"
   ]
  },
  {
   "cell_type": "code",
   "execution_count": null,
   "metadata": {},
   "outputs": [],
   "source": [
    "print(\"Plotting objective function distribution\")\n",
    "# Analyse a single output variable, vio_constr_res\n",
    "results = campaign.analyse(qoi_cols=[\"objf\"])\n",
    "\n",
    "# Get its distribution\n",
    "dist = results.get_distribution(qoi=\"objf\")\n",
    "\n",
    "# Locations for density function to be evaluated\n",
    "x = np.linspace(dist.lower[0], dist.upper[0], num=500)\n",
    "pdf = dist.pdf(x)\n",
    "\n",
    "# Plot\n",
    "fig, ax = plt.subplots()\n",
    "sns.lineplot(x=x, y=pdf, markers=True, ax=ax)\n",
    "ax.set_title(\"Distribution for objf\")\n",
    "ax.set_xlabel(\"objf\")\n",
    "ax.set_ylabel(\"Probability density\")"
   ]
  },
  {
   "cell_type": "markdown",
   "metadata": {},
   "source": [
    "## Sobol indices\n",
    "### Violated constraint residuals\n",
    "Sobols for violated constraint residuals."
   ]
  },
  {
   "cell_type": "code",
   "execution_count": null,
   "metadata": {},
   "outputs": [],
   "source": [
    "print(\"Plotting Sobols for violated constraint residuals.\")\n",
    "results = campaign.analyse(qoi_cols=[\"vio_constr_res\"])\n",
    "fig, ax = plt.subplots()\n",
    "results.plot_sobols_treemap(\"vio_constr_res\", figsize=(10, 10), ax=ax)"
   ]
  },
  {
   "cell_type": "markdown",
   "metadata": {},
   "source": [
    "### Sobols for individual constraint\n",
    "Interesting for discussion, but not for poster. Too much information (Sobol indices for each constraint).\n",
    "\n"
   ]
  },
  {
   "cell_type": "code",
   "execution_count": null,
   "metadata": {},
   "outputs": [],
   "source": [
    "print(\"Plotting individual constraint Sobols\")\n",
    "results = campaign.analyse(qoi_cols=top_vio_means)\n",
    "for constr_name in top_vio_means:\n",
    "    fig, ax = plt.subplots()\n",
    "    try:\n",
    "        results.plot_sobols_treemap(constr_name, ax=ax)\n",
    "        # fig.savefig(f\"{constr_name}_sobols_treemap.png\")\n",
    "        print(f\"Plotted {constr_name} Sobols.\")\n",
    "    except:\n",
    "        print(f\"Couldn't plot {constr_name} Sobols.\")"
   ]
  },
  {
   "cell_type": "markdown",
   "metadata": {},
   "source": [
    "## Barplot of Sobol indices\n"
   ]
  },
  {
   "cell_type": "code",
   "execution_count": null,
   "metadata": {},
   "outputs": [],
   "source": [
    "print(\"Plotting barplot of Sobols for violated constraint residuals.\")\n",
    "# results.sobols_first()\n",
    "# results.sobols_second()\n",
    "# results.sobols_total()\n",
    "\n",
    "results = campaign.analyse(qoi_cols=[\"vio_constr_res\"])\n",
    "sobols_first = results.sobols_first()[\"vio_constr_res\"]\n",
    "sobols_first_df = pd.DataFrame(sobols_first)\n",
    "sobols_first_df_melted = sobols_first_df.melt()\n",
    "sobols_first_df_melted\n",
    "\n",
    "fig, ax = plt.subplots()\n",
    "sns.barplot(data=sobols_first_df_melted, x=\"value\", y=\"variable\", ax=ax)\n",
    "ax.set_title(\"First-order Sobol indices for violated constraint residuals\")\n",
    "ax.set_xlabel(\"First-order Sobol index\")\n",
    "ax.set_ylabel(\"Uncertain input\")"
   ]
  },
  {
   "cell_type": "code",
   "execution_count": null,
   "metadata": {},
   "outputs": [],
   "source": [
    "print(\"Plotting first and higher-order Sobols for violated constraint residuals.\")\n",
    "sobols_total = results.sobols_total()[\"vio_constr_res\"]\n",
    "\n",
    "# Calculate higher-order Sobol indices\n",
    "sobols_higher = {}\n",
    "for key in sobols_first:\n",
    "    sobols_higher[key] = sobols_total[key] - sobols_first[key]\n",
    "\n",
    "# Combine first and higher-order into df\n",
    "sobols_first_and_higher = {}\n",
    "for key in sobols_first:\n",
    "    sobols_first_and_higher[key] = [sobols_first[key][0], sobols_higher[key][0]]\n",
    "\n",
    "sobols_first_and_higher_df = pd.DataFrame(\n",
    "    sobols_first_and_higher, index=[\"First-order\", \"Higher-order\"]\n",
    ")\n",
    "sobols_first_and_higher_df = sobols_first_and_higher_df.reset_index()\n",
    "sobols_first_and_higher_df\n",
    "sobols_first_and_higher_df_melted = sobols_first_and_higher_df.melt(id_vars=\"index\")\n",
    "sobols_first_and_higher_df_melted\n",
    "\n",
    "# Plot\n",
    "fig, ax = plt.subplots()\n",
    "ax = sns.barplot(\n",
    "    data=sobols_first_and_higher_df_melted,\n",
    "    x=\"value\",\n",
    "    y=\"variable\",\n",
    "    hue=\"index\",\n",
    "    orient=\"h\",\n",
    ")\n",
    "ax.set_title(\"First- and higher-order Sobol indices for violated constraint residuals\")\n",
    "ax.set_xlabel(\"Sobol index\")\n",
    "ax.set_ylabel(\"Uncertain input\")"
   ]
  }
 ],
 "metadata": {
  "kernelspec": {
   "display_name": "easyVVUQ-process",
   "language": "python",
   "name": "python3"
  },
  "language_info": {
   "codemirror_mode": {
    "name": "ipython",
    "version": 3
   },
   "file_extension": ".py",
   "mimetype": "text/x-python",
   "name": "python",
   "nbconvert_exporter": "python",
   "pygments_lexer": "ipython3",
   "version": "3.10.9"
  }
 },
 "nbformat": 4,
 "nbformat_minor": 2
}
