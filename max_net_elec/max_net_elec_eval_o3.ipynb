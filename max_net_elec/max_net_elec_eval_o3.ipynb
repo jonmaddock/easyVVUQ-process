{
 "cells": [
  {
   "cell_type": "markdown",
   "metadata": {},
   "source": [
    "# Screened Infeasibility UQ\n",
    "\n",
    "The generic DEMO design was optimised for maximum net electric power, and the solution turned into an input file. f-values were removed as iteration variables (set to 1.0), and their equality constraints therefore converted to inequalities. PROCESS was run once-through for each uncertain input sample, and the responses were the violated constraint residuals, i.e. the infeasibilities of all individual constraints as well as the overall RMS infeasibility.\n",
    "\n",
    "Here, the inputs have already been screened using the single-parameter evaluation method to find the most sensitive inputs.\n",
    "\n",
    "This notebook runs an easyVVUQ campaign using Dask for parallelisation, suitable for HPC use.\n"
   ]
  },
  {
   "cell_type": "code",
   "execution_count": null,
   "metadata": {},
   "outputs": [],
   "source": [
    "from infeas import eval\n",
    "from dask_jobqueue import SLURMCluster\n",
    "\n",
    "# Define resources for a worker\n",
    "# Can be up to a full node per worker\n",
    "cluster = SLURMCluster(\n",
    "    cores=1,\n",
    "    processes=1,\n",
    "    memory=\"4GB\",\n",
    "    account=\"UKAEA-AP001-CPU\",\n",
    "    walltime=\"03:00:00\",\n",
    "    queue=\"cclake\",\n",
    ")\n",
    "# Define number of workers\n",
    "cluster.scale(64)\n",
    "\n",
    "campaign_name = \"max_net_elec_o3\"\n",
    "template_fname = \"demo_sol_max_net_elec_no_f_IN.template\"\n",
    "\n",
    "# Parameters to vary\n",
    "vary = [\n",
    "    \"fdene\",\n",
    "    \"hfact\",\n",
    "    \"fimp_14\",\n",
    "    \"psepbqarmax\",\n",
    "    \"kappa\",\n",
    "    \"pinjalw\",\n",
    "    \"alstroh\",\n",
    "    \"triang\",\n",
    "]\n",
    "\n",
    "eval.evaluate(\n",
    "    cluster=cluster,\n",
    "    vary_param_names=vary,\n",
    "    campaign_name=campaign_name,\n",
    "    template_fname=template_fname,\n",
    "    polynomial_order=3,\n",
    ")"
   ]
  }
 ],
 "metadata": {
  "kernelspec": {
   "display_name": "easyVVUQ-process",
   "language": "python",
   "name": "python3"
  },
  "language_info": {
   "codemirror_mode": {
    "name": "ipython",
    "version": 3
   },
   "file_extension": ".py",
   "mimetype": "text/x-python",
   "name": "python",
   "nbconvert_exporter": "python",
   "pygments_lexer": "ipython3",
   "version": "3.10.9"
  }
 },
 "nbformat": 4,
 "nbformat_minor": 2
}
