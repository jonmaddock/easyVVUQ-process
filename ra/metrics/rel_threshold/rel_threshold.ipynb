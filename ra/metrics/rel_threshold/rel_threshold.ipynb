{
 "cells": [
  {
   "cell_type": "markdown",
   "metadata": {},
   "source": [
    "# Solution requirement violation severity value as a threshold\n",
    "\n",
    "Process produces solutions with non-zero requirement violation severity $s$, i.e. some inequality constraints are violated at a converged solution. This is possibly due to tolerances on the contraint violations, and is a problem for reliability analysis as it means that the initial solution has $s > 0$, i.e. it is not feasible. This could be fixed by modifying Process to only converge when the inequality constraints are truly satisfied and $s = 0$.\n",
    "\n",
    "However, in the meantime, a workaroud might be to work out the RMS constraints at the solution point, then use this as a threshold for reliability in reliability analyses: are the sample points more or less severely violated than the original solution?\n",
    "\n",
    "So far, severity:\n",
    "$$s = \\sqrt{\\frac{1}{N}\\sum_{i=1}^{N}c_i^2},$$\n",
    "i.e. the RMS of violated inequality constraints. $s > 0$ at the solution point. Therefore the solution is infeasible, and a reliability analysis around that point is likely to give a reliability $R = 0$, where $R = F_s(0 \\mid \\theta)$.\n",
    "\n",
    "Therefore use the solution severity $s$ as a threshold severity, which can be subtracted from sample severities to normalise them. The solution severity $s$ is calculated below."
   ]
  },
  {
   "cell_type": "code",
   "execution_count": 1,
   "metadata": {},
   "outputs": [],
   "source": [
    "from infeas.decoder import MfileDecoder"
   ]
  },
  {
   "cell_type": "code",
   "execution_count": 11,
   "metadata": {},
   "outputs": [
    {
     "name": "stdout",
     "output_type": "stream",
     "text": [
      "Severity threshold s = 0.060444372057375594\n"
     ]
    }
   ],
   "source": [
    "# Hijack decoder to work out RMS constraints\n",
    "mfile_path = \"large_tokamak_sol_MFILE.DAT\"\n",
    "mfile_decoder = MfileDecoder(\n",
    "    target_filename=mfile_path, output_columns=[\"rms_vio_constr_res\"]\n",
    ")\n",
    "raw_data = mfile_decoder._get_raw_data(mfile_path)\n",
    "processed_data = mfile_decoder._process_raw_data(raw_data)\n",
    "severity_thresh = processed_data[\"rms_vio_constr_res\"]\n",
    "print(f\"Severity threshold s = {severity_thresh}\")"
   ]
  }
 ],
 "metadata": {
  "kernelspec": {
   "display_name": "easyVVUQ-process",
   "language": "python",
   "name": "python3"
  },
  "language_info": {
   "codemirror_mode": {
    "name": "ipython",
    "version": 3
   },
   "file_extension": ".py",
   "mimetype": "text/x-python",
   "name": "python",
   "nbconvert_exporter": "python",
   "pygments_lexer": "ipython3",
   "version": "3.10.9"
  }
 },
 "nbformat": 4,
 "nbformat_minor": 2
}
